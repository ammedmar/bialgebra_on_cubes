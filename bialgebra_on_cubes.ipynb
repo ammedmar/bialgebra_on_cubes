{
 "cells": [
  {
   "cell_type": "markdown",
   "metadata": {},
   "source": [
    "# Algebraic $E_\\infty$-bialgebra on cubes\n",
    "\n",
    "In this notebook we implement natural E_infinity bialgebra structures on the chains of standard cubes using the finitely presented E_infinity prop of [[1]](https://arxiv.org/abs/1808.00854). These natural bialgebras induce an E-infinity coalgebra structure on the chains of any cubical set."
   ]
  },
  {
   "cell_type": "markdown",
   "metadata": {},
   "source": [
    "## Preliminaries"
   ]
  },
  {
   "cell_type": "markdown",
   "metadata": {},
   "source": [
    "### $E_\\infty$-coalgebras and $E_\\infty$-bialgebras\n",
    "\n",
    "Let $k$ be a commutative and unital ring. In this notebook we will consider $k$ to be the field with two elements, but the following definitions and statements hold in general. \n",
    "\n",
    "An $E_\\infty$-coalgebra structure on a chain complex $C$ is a morphism of operads \n",
    "\n",
    "$$\\mathcal E \\to \\big\\{ \\mathrm{Hom} (C, C^{\\otimes m}) \\big\\}_{m \\geq 0}$$\n",
    "\n",
    "where $\\mathcal E(0) = k$ and $\\mathcal E(m)$ is a free $k[\\Sigma_m]$-module with the homology of a point. Such operad is called an $E_\\infty$-operad.\n",
    "\n",
    "An $E_\\infty$-bialgebra structure on a chain complex $C$ is a morphism of props\n",
    "\n",
    "$$\\mathcal P \\to \\big\\{ \\mathrm{Hom} (C^{\\otimes n}, C^{\\otimes m}) \\big\\}_{n,m \\geq 0}$$\n",
    "\n",
    "that restricted to the operad $U(\\mathcal P) = \\{\\mathcal P(1,m)\\}_{m \\geq 0}$ defines an $E_\\infty$-coalgebra structure on $C$.\n",
    "\n",
    "In [[1]](https://arxiv.org/abs/1808.00854) is shown that a choice of three maps: \n",
    "\n",
    "$$\\Delta : C \\to C \\otimes C$$\n",
    "of degree 0,\n",
    "$$\\varepsilon : C \\to \\mathbb F_2$$\n",
    "of degree 0, and\n",
    "$$\\ast : C \\otimes C \\to C$$\n",
    "\n",
    "of degree one, define an $E_\\infty$-bialgebra structure on $C$ if they satisfy for every $x,y \\in C$\n",
    "\n",
    "$$(\\partial \\otimes \\mathrm{id} + \\mathrm{id} \\otimes \\partial) \\Delta (x) = \\Delta\\,(\\partial(x))$$\n",
    "\n",
    "$$\\partial \\varepsilon (x) + \\varepsilon(\\partial x) = 0$$\n",
    "\n",
    "$$\\partial (x \\ast y) + (\\partial x) \\ast y + x \\ast (\\partial y) \n",
    "= \\varepsilon(x)y + \\varepsilon(y)x$$\n",
    "and \n",
    "$$(\\varepsilon(x) \\otimes \\mathrm{id})\\,\\Delta(x) = x = (\\mathrm{id} \\otimes \\varepsilon(x))\\,\\Delta(x)$$\n",
    "\n",
    "$$\\varepsilon(x \\ast y) = 0.$$\n",
    "\n",
    "In this notebook, we describe using this method a natural $E_\\infty$-bialgebra structure on the chains of standard cubes. We remark that, using a standard technique from category theory, this defines an $E_\\infty$-coalgebra structure on the chains of cubical sets."
   ]
  },
  {
   "cell_type": "markdown",
   "metadata": {},
   "source": [
    "### Chains on the standard cubes\n",
    "\n",
    "Let $\\mathrm I = [0,1]$ be the interval with its traditional cellular structure. We denote its cells by \n",
    "\n",
    "$$\\mathrm{cells}(\\mathrm I) = \\big\\{[0], [1], e\\big\\}.$$\n",
    "\n",
    "A basis for $C_\\bullet(\\mathrm I^d;\\;\\mathbb F_2)$ is given by \n",
    "$$\\mathrm{basis}(\\mathrm I^d) = \\big\\{(x_i,\\dots,x_d) \\, :\\, x_i \\in \\mathrm{cells}(\\mathrm I) \\big\\}$$ \n",
    "\n",
    "and its chain complex structure is induced via the isomorphism\n",
    "\n",
    "$$C_\\bullet(\\mathrm I^d) \\cong C_\\bullet(;\\mathbb F_2)^{\\otimes d}.$$\n",
    "\n",
    "Some notation we will use in this notebook is the following: let $x = (x_1,\\dots,x_d)$ and $y = (y_1,\\dots,y_d)$\n",
    "\n",
    "\\begin{align*}\n",
    "x_{<i} &= (x_1,\\dots,x_{i-1}) \\\\\n",
    "x_{>i} &= (x_{i+1},\\dots,x_d) \\\\\n",
    "\\partial_i(x) &= (x_1, \\dots, \\partial x_i,\\dots, x_n).\n",
    "\\end{align*}"
   ]
  },
  {
   "cell_type": "markdown",
   "metadata": {},
   "source": [
    "## Main methods"
   ]
  },
  {
   "cell_type": "markdown",
   "metadata": {},
   "source": [
    "### Basis, degree, and boundary\n",
    "\n",
    "We introduce methods modeling the functions\n",
    "$$d \\mapsto \\mathrm{basis}\\big(C_\\bullet(\\mathrm I^d;\\mathbb F_2)\\big)$$\n",
    "\n",
    "$$(x_1,\\dots,x_d) \\mapsto \\mathrm{degree}\\big((x_1,\\dots,x_d)\\big)$$\n",
    "\n",
    "$$(x_1,\\dots,x_d) \\mapsto \\partial(x_1,\\dots,x_d).$$"
   ]
  },
  {
   "cell_type": "code",
   "execution_count": 1,
   "metadata": {},
   "outputs": [],
   "source": [
    "from itertools import product as times\n",
    "\n",
    "def basis(d):\n",
    "    if d == 0:\n",
    "        return ['0']\n",
    "    \n",
    "    cells = {'0','1','e'}\n",
    "    basis = [''.join(ltr) for ltr in times(cells, repeat=d)]\n",
    "    \n",
    "    return basis\n",
    "\n",
    "def degree(x):\n",
    "    return x.count('e')\n",
    "\n",
    "def boundary(x):\n",
    "    answer = set()\n",
    "    for i, letter in enumerate(x):\n",
    "        if letter == 'e':\n",
    "            answer ^= {x[:i]+'0'+x[i+1:],\n",
    "                       x[:i]+'1'+x[i+1:]}\n",
    "    return answer\n",
    "\n",
    "def display_boundary(x):\n",
    "    bdry = boundary(x)\n",
    "    if not bool(bdry):\n",
    "        return f'partial([{x}]) = 0'\n",
    "    \n",
    "    space = ' '*(12+len(x))\n",
    "    bdry = str(bdry).replace(\"', '\",\"]\\n\"+space+\"+ [\")\n",
    "    return f'partial([{x}]) = ['+bdry[2:-2]+']'"
   ]
  },
  {
   "cell_type": "markdown",
   "metadata": {},
   "source": [
    "#### Example\n",
    "\n",
    "Given an choice of integer $d$, we print the boundary $\\partial(x)$ for all basis elements in $C_\\bullet(\\mathrm I^d; \\mathbb F_2)$."
   ]
  },
  {
   "cell_type": "code",
   "execution_count": 2,
   "metadata": {},
   "outputs": [
    {
     "name": "stdout",
     "output_type": "stream",
     "text": [
      "partial([0]) = 0\n"
     ]
    }
   ],
   "source": [
    "d = 0\n",
    "\n",
    "for x in basis(d):\n",
    "    print(display_boundary(x))"
   ]
  },
  {
   "cell_type": "markdown",
   "metadata": {},
   "source": [
    "### Coproduct\n",
    "\n",
    "We will model the function\n",
    "\n",
    "$$\\Delta : C_\\bullet(\\mathrm I^d;\\mathbb F_2) \\to C_\\bullet(\\mathrm I^d;\\mathbb F_2) \\otimes C_{\\bullet}(\\mathrm I^d;\\mathbb F_2)$$\n",
    "defined by\n",
    "$$ \\Delta \\big( (x_1,\\dots x_d) \\big) = \n",
    "(\\pi_1\\Delta(x_1), \\dots, \\pi_1\\Delta(x_d)) \\otimes\n",
    "(\\pi_2\\Delta(x_1), \\dots, \\pi_2\\Delta(x_d))$$\n",
    "where \n",
    "$$\\Delta([0]) = [0] \\otimes [0] \\qquad \\Delta([1]) = [1] \\otimes [1]$$\n",
    "and\n",
    "$$ \\Delta(e) = e \\otimes [0] + [1] \\otimes e.$$"
   ]
  },
  {
   "cell_type": "code",
   "execution_count": 3,
   "metadata": {},
   "outputs": [],
   "source": [
    "def coproduct(x, answer=set()):\n",
    "    if len(x) == 0:\n",
    "        return {('','')}\n",
    "    \n",
    "    if x[0] == 'e':        \n",
    "        answer = {('0'+pair[0], 'e'+pair[1]) \n",
    "                  for pair in coproduct(x[1:], answer)} \\\n",
    "               ^ {('e'+pair[0], '1'+pair[1]) \n",
    "                  for pair in coproduct(x[1:], answer)}\n",
    "    else:\n",
    "        answer = {(x[0]+pair[0], x[0]+pair[1]) \n",
    "                  for pair in coproduct(x[1:], answer)}  \n",
    "    return answer\n",
    "\n",
    "def display_coproduct(x):\n",
    "    coprod = str(coproduct(x))\n",
    "    coprod = coprod.replace(\"', '\",\"]|[\")\n",
    "    \n",
    "    space = ' '*(10+len(x))\n",
    "    coprod = coprod.replace(\"'), ('\",\"]\\n\"+space+\"+ [\")\n",
    "    \n",
    "    return f'Delta([{x}]) = ['+coprod[3:-3]+']'"
   ]
  },
  {
   "cell_type": "markdown",
   "metadata": {},
   "source": [
    "#### Example\n",
    "\n",
    "Given an choice of integer $d$, we print the coproduct $\\Delta(x)$ for all basis elements in $C_\\bullet(\\mathrm I^d; \\mathbb F_2)$."
   ]
  },
  {
   "cell_type": "code",
   "execution_count": 29,
   "metadata": {},
   "outputs": [
    {
     "name": "stdout",
     "output_type": "stream",
     "text": [
      "Delta([1]) = [1]|[1]\n",
      "Delta([0]) = [0]|[0]\n",
      "Delta([e]) = [e]|[1]\n",
      "           + [0]|[e]\n"
     ]
    }
   ],
   "source": [
    "d = 1\n",
    "\n",
    "for x in basis(d):\n",
    "    print(display_coproduct(x))"
   ]
  },
  {
   "cell_type": "markdown",
   "metadata": {},
   "source": [
    "### Counit\n",
    "\n",
    "We will model the function \n",
    "$$\\varepsilon : C_\\bullet(\\mathrm I^d;\\mathbb F_2) \\to \\mathbb F_2$$ \n",
    "defined on basis elements by\n",
    "$$\\varepsilon(x) = \n",
    "\\begin{cases}\n",
    "1 & |x| = 0 \\\\\n",
    "0 & |x| > 0.\n",
    "\\end{cases}$$"
   ]
  },
  {
   "cell_type": "code",
   "execution_count": 5,
   "metadata": {},
   "outputs": [],
   "source": [
    "def counit(x):\n",
    "    if degree(x) > 0:\n",
    "        return 0\n",
    "    if degree(x) == 0:\n",
    "        return 1"
   ]
  },
  {
   "cell_type": "markdown",
   "metadata": {},
   "source": [
    "#### Example\n",
    "Given a choice of integer $d$, we print counit $\\varepsilon(x)$ for all basis elements in $C_\\bullet(\\mathrm I^d; \\mathbb F_2)$."
   ]
  },
  {
   "cell_type": "code",
   "execution_count": 6,
   "metadata": {},
   "outputs": [
    {
     "name": "stdout",
     "output_type": "stream",
     "text": [
      "varepsilon([0]) =  1\n"
     ]
    }
   ],
   "source": [
    "d = 0\n",
    "\n",
    "for x in basis(d):\n",
    "    print(f'varepsilon([{x}]) = ',counit(x))"
   ]
  },
  {
   "cell_type": "markdown",
   "metadata": {},
   "source": [
    "### Product\n",
    "\n",
    "We will model the function\n",
    "$$\\ast : C_\\bullet(\\mathrm I^d;\\mathbb F_2) \\otimes C_\\bullet(\\mathrm I^d;\\mathbb F_2) \\to C_{\\bullet+1}(\\mathrm I^d;\\mathbb F_2)$$\n",
    "defined by\n",
    "$$ \\ast (x \\otimes y) =\n",
    "\\sum_{i=1}^d \\varepsilon(x_{<i})\\, \\varepsilon(y_{>i})\\, \\big( y_{<i}, (x_i\\ast y_i), x_{>i} \\big).$$\n",
    "where $$\\ast(x_i,y_i) = \\begin{cases} \n",
    "e &  x_i=[0]\\ y_i=[1] \\text{ or} \\\\\n",
    "  &  x_i=[1]\\ y_i=[0] \\\\\n",
    "0 & \\text{otherwise}.\n",
    "\\end{cases}$$"
   ]
  },
  {
   "cell_type": "code",
   "execution_count": 7,
   "metadata": {},
   "outputs": [],
   "source": [
    "_ast = {'01':'e','10':'e'}\n",
    "\n",
    "def product(x,y):\n",
    "    assert len(x)== len(y), 'not in the same cube'\n",
    "    \n",
    "    answer = set()\n",
    "    for i, pair in enumerate(zip(x,y)):\n",
    "        try:\n",
    "            answer ^= {y[:i]\n",
    "                      +_ast[pair[0]+pair[1]]\n",
    "                      +x[i+1:]}\n",
    "        except KeyError:\n",
    "            pass\n",
    "    \n",
    "    expected_degree = degree(x)+degree(y)+1\n",
    "    answer = {term for term in answer if \n",
    "              term.count('e') == expected_degree}\n",
    "    \n",
    "    return answer\n",
    "\n",
    "def display_product(x,y):\n",
    "    jn = product(x,y)\n",
    "    \n",
    "    if jn:\n",
    "        return f'[{x}]*[{y}] = [' + ']+['.join(jn) + ']'\n",
    "    if not jn:\n",
    "        return f'[{x}]*[{y}] = 0'"
   ]
  },
  {
   "cell_type": "markdown",
   "metadata": {},
   "source": [
    "#### Example\n",
    "\n",
    "Given a choice of integer $d$, we print the product $x*y$ for all pairs of basis elements in $C_\\bullet(\\mathrm I^d; \\mathbb F_2)$."
   ]
  },
  {
   "cell_type": "code",
   "execution_count": 30,
   "metadata": {},
   "outputs": [
    {
     "name": "stdout",
     "output_type": "stream",
     "text": [
      "[1]*[0] = [e]\n",
      "[0]*[1] = [e]\n"
     ]
    }
   ],
   "source": [
    "d = 1\n",
    "only_nonzero = True\n",
    "\n",
    "for x,y in times(basis(d), repeat=2):\n",
    "    if product(x,y) or not only_nonzero:\n",
    "        print(display_product(x,y))"
   ]
  },
  {
   "cell_type": "markdown",
   "metadata": {},
   "source": [
    "## Checks and proofs"
   ]
  },
  {
   "cell_type": "markdown",
   "metadata": {},
   "source": [
    "### Boundary of coproduct\n",
    "\n",
    "We define a method that verifies that for any basis element $x \\in C_\\bullet(\\mathrm I^d; \\mathbb F_2)$\n",
    "\n",
    "$$(\\partial \\otimes \\mathrm{id} + \\mathrm{id}\\otimes \\partial)\\, \\Delta(x) + \\Delta(\\partial x) = 0$$"
   ]
  },
  {
   "cell_type": "code",
   "execution_count": 9,
   "metadata": {},
   "outputs": [],
   "source": [
    "def check_boundary_coproduct(x):\n",
    "    '''returns True if the boundary the coproduct acting \n",
    "    on the basis element x is 0'''\n",
    "    \n",
    "    answer = set()\n",
    "    for term in boundary(x):\n",
    "        answer ^= coproduct(term)\n",
    "        \n",
    "    for pair in coproduct(x):\n",
    "        bdry_0 = boundary(pair[0])\n",
    "        answer ^= {(term, pair[1]) for term in bdry_0}\n",
    "        \n",
    "        bdry_1 = boundary(pair[1])\n",
    "        answer ^= {(pair[0], term) for term in bdry_1}\n",
    "        \n",
    "    return not bool(answer)"
   ]
  },
  {
   "cell_type": "markdown",
   "metadata": {},
   "source": [
    "### Boundary of the product\n",
    "\n",
    "We define a method that verifies that for any pair of basis elements $x,y \\in C_\\bullet(\\mathrm I^d; \\mathbb F_2)$\n",
    "\n",
    "$$\\partial (x \\ast y) + (\\partial x) \\ast y + x \\ast (\\partial y) \n",
    "= \\varepsilon(x)y + \\varepsilon(y)x.$$"
   ]
  },
  {
   "cell_type": "code",
   "execution_count": null,
   "metadata": {},
   "outputs": [],
   "source": [
    "def check_product_boundary(x,y):\n",
    "    '''returns True if the boundary of the product\n",
    "    acts on a pair of basis elements x and y as\n",
    "    counit(x)y + counit(y)x'''\n",
    "    answer = set()\n",
    "    for x_term in boundary(x):\n",
    "        answer ^= product(x_term, y)\n",
    "    for y_term in boundary(y):\n",
    "        answer ^= product(x, y_term)\n",
    "    for z in product(x,y):\n",
    "        answer ^= boundary(z)\n",
    "    if bool(counit(x)):\n",
    "        answer ^= {y}\n",
    "    if bool(counit(y)):\n",
    "        answer ^= {x}\n",
    "\n",
    "    return not bool(answer)"
   ]
  },
  {
   "cell_type": "markdown",
   "metadata": {},
   "source": [
    "#### Proof\n",
    "\n",
    "We have\n",
    "\\begin{align*}\n",
    "\\partial (x \\ast y) &= \n",
    "\\sum_{j=1}^n \\varepsilon(x_{<j})\\, \\varepsilon(y_{>j})\\, \\big( \\partial y_{<j},\\, x_j \\ast y_j,\\, x_{>j}\\big) \\\\ &+\n",
    "\\sum_{j=1}^n \\varepsilon(x_{<j})\\, \\varepsilon(y_{>j})\\, \\big( y_{<j},\\ \\partial(x_j \\ast y_j),\\ x_{>j} \\big) \\\\ &+ \n",
    "\\sum_{j=1}^n \\varepsilon(x_{<j})\\, \\varepsilon(y_{>j})\\, \\big( y_{<j},\\, x_j \\ast y_j,\\, \\partial x_{>j}\\big)\n",
    "\\Big),\\\\\n",
    "\\partial x \\ast y &= \n",
    "\\sum_{j=1}^n \\sum_{i<j} \\varepsilon(\\partial_i x_{<j})\\, \\varepsilon(y_{>j})\\, \\big( y_{<j},\\, x_j \\ast y_j,\\, x_{>j} \\big) \\\\ & +\n",
    "\\sum_{j=1}^n \\varepsilon(x_{<j})\\, \\varepsilon(y_{>j})\\, \\big( y_{<j},\\, \\partial x_j \\ast y_j,\\, x_{>j} \\big) \\\\ & +\n",
    "\\sum_{j=1}^n \\sum_{k>j} \\varepsilon(x_{<j})\\, \\varepsilon(y_{>j})\\,\t\\big( y_{<j},\\, x_j \\ast y_j,\\, \\partial_k x_{>j} \\big), \\\\\n",
    "x \\ast \\partial y &= \n",
    "\\sum_{j=1}^n \\sum_{i<j} \\varepsilon(x_{<j})\\, \\varepsilon(y_{>j})\\, \\big( \\partial_i y_{<j},\\, x_j \\ast y_j,\\, x_{>j} \\big) \\\\ & +\n",
    "\\sum_{j=1}^n \\varepsilon(x_{<j})\\, \\varepsilon(y_{>j})\\, \\big( y_{<j},\\, x_j \\ast \\partial y_j,\\, x_{>j} \\big) \\\\ & +\n",
    "\\sum_{j=1}^n \\sum_{k>j} \\varepsilon(x_{<j})\\, \\varepsilon(\\partial_k y_{>j})\\,\t\\big( y_{<j},\\, x_j \\ast y_j,\\, x_{>j} \\big).\n",
    "\\end{align*}\n",
    "\n",
    "Using that $\\varepsilon(\\partial (z)) = 0$ for any $z$, we conclude that the left hand side is equal to \n",
    "\n",
    "\\begin{align*}\n",
    "&\\sum_{j=1}^n \\varepsilon(x_{<j})\\, \\varepsilon(y_{>j})\\, \\big( y_{<j},\\, \\partial(x_j \\ast y_j),\\, x_{>j} \\big) \\\\ +\n",
    "&\\sum_{j=1}^n \\varepsilon(x_{<j})\\, \\varepsilon(y_{>j})\\, \\big( y_{<j},\\, \\partial x_j \\ast y_j,\\, x_{>j} \\big) \\\\ +\n",
    "&\\sum_{j=1}^n \\varepsilon(x_{<j})\\, \\varepsilon(y_{>j})\\, \\big( y_{<j},\\, x_j \\ast \\partial y_j,\\, x_{>j} \\big)\n",
    "\\end{align*}\n",
    "which in turns, since \n",
    "\\begin{equation*}\n",
    "\\partial (x_j \\ast y_j) + \\partial x_j \\ast y_j + x_j \\ast \\partial y_j = \\varepsilon(x_j) y_j + \\varepsilon(y_j) x_j,\n",
    "\\end{equation*}\n",
    "is also equal to \n",
    "\\begin{equation*}\n",
    "\\sum_{j=1}^n \\varepsilon(x_{\\leq j})\\, \\varepsilon(y_{>j})\\, \\big( y_{\\leq j},\\, x_{>j} \\big) + \n",
    "\\varepsilon(x_{< j})\\, \\varepsilon(y_{\\geq j})\\, \\big( y_{< j},\\, x_{\\geq j} \\big).\n",
    "\\end{equation*}\n",
    "\n",
    "Finally, a telescopic sum argument establishes that the left hand side is equal to\n",
    "\n",
    "\\begin{equation*}\n",
    "\\varepsilon(x)y + \\varepsilon(y)x\n",
    "\\end{equation*}\n",
    "as claimed."
   ]
  },
  {
   "cell_type": "markdown",
   "metadata": {},
   "source": [
    "### Counit property\n",
    "\n",
    "We define a method that verifies that for any basis element $x \\in C_\\bullet(\\mathrm I^d; \\mathbb F_2)$\n",
    "\n",
    "$$(\\varepsilon(x) \\otimes \\mathrm{id})\\,\\Delta(x) = x = (\\mathrm{id} \\otimes \\varepsilon(x))\\,\\Delta(x).$$"
   ]
  },
  {
   "cell_type": "code",
   "execution_count": 11,
   "metadata": {},
   "outputs": [],
   "source": [
    "def check_counit_property(x):\n",
    "    '''return True if applying the counit to any of the factors \n",
    "    of the coproduct of any basis element gives the element back'''\n",
    "    coprod = coproduct(x)\n",
    "    a = {pair[1] for pair in coprod if bool(counit(pair[0]))}\n",
    "    a ^= {x}\n",
    "    b = {pair[0] for pair in coprod if bool(counit(pair[1]))}    \n",
    "    b ^= {x}\n",
    "    return not (bool(a) or bool(b))"
   ]
  },
  {
   "cell_type": "markdown",
   "metadata": {},
   "source": [
    "### Does not satisfy Leibniz\n",
    "\n",
    "Take $[1] \\otimes e$ to show it"
   ]
  }
 ],
 "metadata": {
  "colab": {
   "collapsed_sections": [],
   "name": "action_on_cubes.ipynb",
   "provenance": []
  },
  "kernelspec": {
   "display_name": "Python 3",
   "language": "python",
   "name": "python3"
  },
  "language_info": {
   "codemirror_mode": {
    "name": "ipython",
    "version": 3
   },
   "file_extension": ".py",
   "mimetype": "text/x-python",
   "name": "python",
   "nbconvert_exporter": "python",
   "pygments_lexer": "ipython3",
   "version": "3.7.3"
  }
 },
 "nbformat": 4,
 "nbformat_minor": 1
}
