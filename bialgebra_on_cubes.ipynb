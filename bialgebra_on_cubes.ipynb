{
 "cells": [
  {
   "cell_type": "markdown",
   "metadata": {},
   "source": [
    "# Algebraic $E_\\infty$-bialgebra on cubes\n",
    "\n",
    "In this notebook we describe a natural $E_\\infty$-bialgebra structure on $C_\\bullet(\\mathrm I^d;\\mathbb F_2)$, the cellular chains of a standard cube, using the finitely presented $E_\\infty$-prop of [[1]](https://arxiv.org/abs/1808.00854)."
   ]
  },
  {
   "cell_type": "markdown",
   "metadata": {},
   "source": [
    "## $E_\\infty$-coalgebras and the prop $\\mathcal S$\n",
    "\n",
    "Recall..."
   ]
  },
  {
   "cell_type": "markdown",
   "metadata": {},
   "source": [
    "## Chain on standard cubes\n",
    " Recall..."
   ]
  },
  {
   "cell_type": "code",
   "execution_count": null,
   "metadata": {},
   "outputs": [],
   "source": [
    "from itertools import product as times\n",
    "\n",
    "def basis(d):\n",
    "    if d == 0:\n",
    "        return ['0']\n",
    "    \n",
    "    letters = ['0','1','e']\n",
    "    basis = [''.join(ltr) for ltr in times(letters, repeat=d)]\n",
    "    \n",
    "    return basis\n",
    "\n",
    "def boundary(x):\n",
    "    answer = set()\n",
    "    for i, letter in enumerate(x):\n",
    "        if letter == 'e':\n",
    "            answer ^= {x[:i]+'0'+x[i+1:],\n",
    "                       x[:i]+'1'+x[i+1:]}\n",
    "    return answer\n",
    "\n",
    "def degree(x):\n",
    "    return x.count('e')"
   ]
  },
  {
   "cell_type": "markdown",
   "metadata": {},
   "source": [
    "## Coproduct\n",
    "\n",
    "We will model the function\n",
    "\n",
    "$$\\Delta : C_\\bullet(\\mathrm I^d;\\mathbb F_2) \\to C_\\bullet(\\mathrm I^d;\\mathbb F_2) \\otimes C_{\\bullet}(\\mathrm I^d;\\mathbb F_2)$$\n",
    "\n",
    "\n",
    "defined by\n",
    "\n",
    "$$ \\Delta \\big( (x_1,\\dots x_d) \\big) = \n",
    "(\\pi_1\\Delta(x_1), \\dots, \\pi_1\\Delta(x_d)) \\otimes\n",
    "(\\pi_1\\Delta(x_1), \\dots, \\pi_1\\Delta(x_d))$$\n",
    "\n",
    "where \n",
    "$$\\Delta([0]) = [0] \\otimes [0] \\qquad \\Delta([1]) = [1] \\otimes [1]$$\n",
    "and\n",
    "$$ \\Delta(e) = e \\otimes [0] + [1] \\otimes e.$$"
   ]
  },
  {
   "cell_type": "code",
   "execution_count": null,
   "metadata": {},
   "outputs": [],
   "source": [
    "def coproduct(x, answer=set()):\n",
    "    if len(x) == 0:\n",
    "        return {('','')}\n",
    "    \n",
    "    if x[0] == 'e':\n",
    "        \n",
    "        answer = {('0'+pair[0], 'e'+pair[1]) for pair in coproduct(x[1:], answer)} \\\n",
    "               ^ {('e'+pair[0], '1'+pair[1]) for pair in coproduct(x[1:], answer)}\n",
    "    else:\n",
    "        answer = {(x[0]+pair[0], x[0]+pair[1]) for pair in coproduct(x[1:], answer)}\n",
    "    \n",
    "    return answer\n",
    "\n",
    "def display_coproduct(x):\n",
    "    coprod = str(coproduct(x))\n",
    "    coprod = coprod.replace(\"', '\",\"]|[\")\n",
    "    \n",
    "    space = ' '*(10+len(x))\n",
    "    coprod = coprod.replace(\"'), ('\",\"]\\n\"+space+\"+ [\")\n",
    "    \n",
    "    return f'Delta([{x}]) = ['+coprod[3:-3]+']'"
   ]
  },
  {
   "cell_type": "markdown",
   "metadata": {},
   "source": [
    "### Example\n",
    "\n",
    "Given an choice of integer $d$, we print the coproduct $\\Delta(x)$ for all basis elements in $C_\\bullet(\\mathrm I^d; \\mathbb F_2)$."
   ]
  },
  {
   "cell_type": "code",
   "execution_count": null,
   "metadata": {},
   "outputs": [],
   "source": [
    "d = 0\n",
    "\n",
    "for x in basis(d):\n",
    "    print(display_coproduct(x))"
   ]
  },
  {
   "cell_type": "markdown",
   "metadata": {},
   "source": [
    "### Check boundary of coproduct\n",
    "\n",
    "We define a method that verifies that for any basis element $x \\in C_\\bullet(\\mathrm I^d; \\mathbb F_2)$\n",
    "\n",
    "$$(\\partial \\otimes \\mathrm{id} + \\mathrm{id}\\otimes \\partial)\\, \\Delta(x) + \\Delta(\\partial x) = 0$$"
   ]
  },
  {
   "cell_type": "code",
   "execution_count": null,
   "metadata": {},
   "outputs": [],
   "source": [
    "def check_boundary_coproduct(x):\n",
    "    '''returns True if the boundary the coproduct acting \n",
    "    on the basis element x is 0'''\n",
    "    \n",
    "    answer = set()\n",
    "    for term in boundary(x):\n",
    "        answer ^= coproduct(term)\n",
    "        \n",
    "    for pair in coproduct(x):\n",
    "        bdry_0 = boundary(pair[0])\n",
    "        answer ^= {(term, pair[1]) for term in bdry_0}\n",
    "        \n",
    "        bdry_1 = boundary(pair[1])\n",
    "        answer ^= {(pair[0], term) for term in bdry_1}\n",
    "        \n",
    "    return not bool(answer)"
   ]
  },
  {
   "cell_type": "markdown",
   "metadata": {},
   "source": [
    "## Counit\n",
    "\n",
    "We will model the function \n",
    "\n",
    "$$\\varepsilon : C_\\bullet(\\mathrm I^d;\\mathbb F_2) \\to \\mathbb F_2$$ \n",
    "\n",
    "defined on basis elements by\n",
    "\n",
    "$$\\varepsilon(x) = \n",
    "\\begin{cases}\n",
    "1 & |x| = 0 \\\\\n",
    "0 & |x| > 0.\n",
    "\\end{cases}$$"
   ]
  },
  {
   "cell_type": "code",
   "execution_count": null,
   "metadata": {},
   "outputs": [],
   "source": [
    "def counit(x):\n",
    "    if degree(x) > 0:\n",
    "        return 0\n",
    "    if degree(x) == 0:\n",
    "        return 1"
   ]
  },
  {
   "cell_type": "markdown",
   "metadata": {},
   "source": [
    "### Check counit property\n",
    "\n",
    "We define a method that verifies that for any basi element $x \\in C_\\bullet(\\mathrm I^d; \\mathbb F_2)$\n",
    "\n",
    "$$(\\varepsilon(x) \\otimes \\mathrm{id})\\,\\Delta(x) = x = (\\mathrm{id} \\otimes \\varepsilon(x))\\,\\Delta(x).$$"
   ]
  },
  {
   "cell_type": "code",
   "execution_count": null,
   "metadata": {},
   "outputs": [],
   "source": [
    "def check_counit_property(x):\n",
    "    '''return True if applying the counit to any of the factors \n",
    "    of the coproduct of any basis element gives the element back'''\n",
    "    coprod = coproduct(x)\n",
    "    a = {pair[1] for pair in coprod if bool(counit(pair[0]))}\n",
    "    a ^= {x}\n",
    "    b = {pair[0] for pair in coprod if bool(counit(pair[1]))}    \n",
    "    b ^= {x}\n",
    "    return not (bool(a) or bool(b))"
   ]
  },
  {
   "cell_type": "markdown",
   "metadata": {},
   "source": [
    "## Product\n",
    "\n",
    "We will model the function\n",
    "$$\\ast : C_\\bullet(\\mathrm I^d;\\mathbb F_2) \\otimes C_\\bullet(\\mathrm I^d;\\mathbb F_2) \\to C_{\\bullet+1}(\\mathrm I^d;\\mathbb F_2)$$\n",
    "\n",
    "defined by\n",
    "\n",
    "$$ \\ast \\big( (x_1,\\dots x_d) \\otimes (y_1,\\dots y_d) \\big) = \n",
    "\\sum_{i=1}^d \\big( y_1,\\dots,y_{i-1}, (x_i\\ast y_i), y_{i+1}, \\dots, y_d \\big).$$\n",
    "\n",
    "where $$\\ast(x,y) = \\begin{cases} \n",
    "e &  x=[0]\\ y=[1] \\text{ or} \\\\\n",
    "  &  x=[1]\\ y=[0] \\\\\n",
    "0 & \\text{otherwise}.\n",
    "\\end{cases}$$"
   ]
  },
  {
   "cell_type": "code",
   "execution_count": null,
   "metadata": {},
   "outputs": [],
   "source": [
    "_ast = {'01':'e','10':'e'}\n",
    "\n",
    "def product(x,y):\n",
    "    assert len(x)== len(y), 'not in the same cube'\n",
    "    \n",
    "    answer = set()\n",
    "    for i, pair in enumerate(zip(x,y)):\n",
    "        try:\n",
    "            answer ^= {y[:i]\n",
    "                      +_ast[pair[0]+pair[1]]\n",
    "                      +x[i+1:]}\n",
    "        except KeyError:\n",
    "            pass\n",
    "    \n",
    "    expected_degree = degree(x)+degree(y)+1\n",
    "    answer = {term for term in answer if \n",
    "              term.count('e') == expected_degree}\n",
    "    \n",
    "    return answer\n",
    "\n",
    "def display_product(x,y):\n",
    "    jn = product(x,y)\n",
    "    \n",
    "    if jn:\n",
    "        return f'[{x}]*[{y}] = [' + ']+['.join(jn) + ']'\n",
    "    if not jn:\n",
    "        return f'[{x}]*[{y}] = 0'"
   ]
  },
  {
   "cell_type": "markdown",
   "metadata": {},
   "source": [
    "### Example\n",
    "Given a choice of integer $d$, we print the product $x*y$ for all pairs of basis elements in $C_\\bullet(\\mathrm I^d; \\mathbb F_2)$."
   ]
  },
  {
   "cell_type": "code",
   "execution_count": null,
   "metadata": {},
   "outputs": [],
   "source": [
    "d = 1\n",
    "only_nonzero = True\n",
    "\n",
    "for x,y in times(basis(d), repeat=2):\n",
    "    if product(x,y) or not only_nonzero:\n",
    "        print(display_product(x,y))"
   ]
  },
  {
   "cell_type": "markdown",
   "metadata": {},
   "source": [
    "### Check boundary of the product\n",
    "\n",
    "We define a method that verifies that for any pair of basis elements $x,y \\in C_\\bullet(\\mathrm I^d; \\mathbb F_2)$\n",
    "\n",
    "$$\\partial (x \\ast y) + (\\partial x) \\ast y + x \\ast (\\partial y) \n",
    "= \\varepsilon(x)y + \\varepsilon(y)x.$$"
   ]
  },
  {
   "cell_type": "code",
   "execution_count": null,
   "metadata": {},
   "outputs": [],
   "source": [
    "def check_product_boundary(x,y):\n",
    "    '''returns True if the boundary of the product\n",
    "    acts on a pair of basis elements x and y as the \n",
    "    sum of the aumentation()'''\n",
    "    answer = set()\n",
    "    for x_term in boundary(x):\n",
    "        answer ^= product(x_term, y)\n",
    "\n",
    "    for y_term in boundary(y):\n",
    "        answer ^= product(x, y_term)\n",
    "\n",
    "    for z in product(x,y):\n",
    "        answer ^= boundary(z)\n",
    "\n",
    "    if bool(counit(x)):\n",
    "        answer ^= {y}\n",
    "\n",
    "    if bool(counit(y)):\n",
    "        answer ^= {x}\n",
    "\n",
    "    return not bool(answer)"
   ]
  }
 ],
 "metadata": {
  "colab": {
   "collapsed_sections": [],
   "name": "action_on_cubes.ipynb",
   "provenance": []
  },
  "kernelspec": {
   "display_name": "Python 3",
   "language": "python",
   "name": "python3"
  },
  "language_info": {
   "codemirror_mode": {
    "name": "ipython",
    "version": 3
   },
   "file_extension": ".py",
   "mimetype": "text/x-python",
   "name": "python",
   "nbconvert_exporter": "python",
   "pygments_lexer": "ipython3",
   "version": "3.7.3"
  }
 },
 "nbformat": 4,
 "nbformat_minor": 1
}
