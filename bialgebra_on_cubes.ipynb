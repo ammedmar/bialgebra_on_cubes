{
 "cells": [
  {
   "cell_type": "markdown",
   "metadata": {},
   "source": [
    "# Algebraic $E_\\infty$-bialgebra on cubes\n",
    "\n",
    "In this notebook we describe a natural $E_\\infty$-bialgebra structure on $C_\\bullet(\\mathrm I^d;\\mathbb F_2)$, the cellular chains of a standard cube, using the finitely presented $E_\\infty$-prop of [[1]](https://arxiv.org/abs/1808.00854)."
   ]
  },
  {
   "cell_type": "markdown",
   "metadata": {},
   "source": [
    "## The prop $\\mathcal S$\n",
    "\n",
    "Recall ..."
   ]
  },
  {
   "cell_type": "markdown",
   "metadata": {},
   "source": [
    "## Chain on standard cubes\n",
    " Recall..."
   ]
  },
  {
   "cell_type": "code",
   "execution_count": null,
   "metadata": {},
   "outputs": [],
   "source": [
    "def boundary(x):\n",
    "    answer = set()\n",
    "    for i, letter in enumerate(x):\n",
    "        if letter == 'e':\n",
    "            answer ^= {x[:i]+'0'+x[i+1:],\n",
    "                       x[:i]+'1'+x[i+1:]}\n",
    "    return answer\n",
    "\n",
    "def dimension(x):\n",
    "    return x.count('e')"
   ]
  },
  {
   "cell_type": "markdown",
   "metadata": {},
   "source": [
    "## Join\n",
    "\n",
    "We will model the function\n",
    "$$\\ast : C_\\bullet(\\mathrm I^d;\\mathbb F_2) \\otimes C_\\bullet(\\mathrm I^d;\\mathbb F_2) \\to C_{\\bullet+1}(\\mathrm I^d;\\mathbb F_2)$$\n",
    "\n",
    "associated to the degree one generator of $\\mathcal S$.\n",
    "\n",
    "We define\n",
    "\n",
    "$$ \\ast \\big( (x_1,\\dots x_d) \\otimes (y_1,\\dots y_d) \\big) = \n",
    "\\sum_{i=1}^d \\big( y_1,\\dots,y_{i-1}, (x_i\\ast y_i), y_{i+1}, \\dots, y_d \\big).$$\n",
    "\n",
    "where define $$\\ast(x,y) = \\begin{cases} \n",
    "e &  x=[0]\\ y=[1] \\text{ or} \\\\\n",
    "  &  x=[1]\\ y=[0] \\\\\n",
    "0 & \\text{otherwise}\n",
    "\\end{cases}$$"
   ]
  },
  {
   "cell_type": "code",
   "execution_count": null,
   "metadata": {},
   "outputs": [],
   "source": [
    "def join(x,y):\n",
    "    assert len(x)== len(y), 'not in the same cube'\n",
    "    \n",
    "    ast = {'01':'e','10':'e'}\n",
    "    answer = set()\n",
    "    for i, pair in enumerate(zip(x,y)):\n",
    "        try:\n",
    "            answer ^= {y[:i]\n",
    "                      +ast[pair[0]+pair[1]]\n",
    "                      +x[i+1:]}\n",
    "        except KeyError:\n",
    "            pass\n",
    "    \n",
    "    expected_dim = dimension(x)+dimension(y)+1\n",
    "    answer = {term for term in answer if \n",
    "              term.count('e') == expected_dim}\n",
    "    \n",
    "    return answer\n",
    "\n",
    "def display_join(x,y):\n",
    "    jn = join(x,y) \n",
    "    if jn:\n",
    "        return f'[{x}]*[{y}] = [' + ']+['.join(jn) + ']'\n",
    "    if not jn:\n",
    "        return f'[{x}]*[{y}] = 0'"
   ]
  },
  {
   "cell_type": "markdown",
   "metadata": {},
   "source": [
    "### Example\n",
    "Given a choice of integer $d$, we print the join $x*y$ of basis elements in $C_\\bullet(\\mathrm I^d; \\mathbb F_2)$ for which it is nonzero."
   ]
  },
  {
   "cell_type": "code",
   "execution_count": null,
   "metadata": {},
   "outputs": [],
   "source": [
    "from itertools import product\n",
    "\n",
    "d = 1\n",
    "elements = [''.join(i) for i in product(['0','1','e'], repeat = d)]\n",
    "\n",
    "for x,y in product(elements, repeat=2):\n",
    "    if join(x,y):\n",
    "        print(display_join(x,y))"
   ]
  },
  {
   "cell_type": "markdown",
   "metadata": {},
   "source": [
    "### Check attaching map\n",
    "We define function that verifies that for any pair of basis elements $x,y \\in C_\\bullet(\\mathrm I^d; \\mathbb F_2)$\n",
    "\n",
    "$$\\partial (x \\ast y) + (\\partial x) \\ast y + x \\ast \\partial y \n",
    "= \\varepsilon(x)y + \\varepsilon(y)x.$$\n"
   ]
  },
  {
   "cell_type": "code",
   "execution_count": null,
   "metadata": {},
   "outputs": [],
   "source": [
    "def check_attaching(x,y):\n",
    "#     print('x',x,'y',y)\n",
    "    answer = set()\n",
    "    for x_term in boundary(x):\n",
    "        answer ^= join(x_term, y)\n",
    "#     print('dx*y',answer)    \n",
    "    for y_term in boundary(y):\n",
    "        answer ^= join(x, y_term)\n",
    "#     print('x*dy',answer)\n",
    "    for z in join(x,y):\n",
    "        answer ^= boundary(z)\n",
    "#     print('d(x*y)',answer)\n",
    "    if dimension(x) == 0:\n",
    "        answer ^= {y}\n",
    "#     print('c(x)y',answer)\n",
    "    if dimension(y) == 0:\n",
    "        answer ^= {x}\n",
    "#     print('c(y)x',answer)\n",
    "    return not bool(answer)"
   ]
  }
 ],
 "metadata": {
  "colab": {
   "collapsed_sections": [],
   "name": "action_on_cubes.ipynb",
   "provenance": []
  },
  "kernelspec": {
   "display_name": "Python 3",
   "language": "python",
   "name": "python3"
  },
  "language_info": {
   "codemirror_mode": {
    "name": "ipython",
    "version": 3
   },
   "file_extension": ".py",
   "mimetype": "text/x-python",
   "name": "python",
   "nbconvert_exporter": "python",
   "pygments_lexer": "ipython3",
   "version": "3.7.3"
  }
 },
 "nbformat": 4,
 "nbformat_minor": 1
}
